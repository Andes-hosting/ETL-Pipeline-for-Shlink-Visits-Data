{
 "cells": [
  {
   "cell_type": "markdown",
   "metadata": {},
   "source": [
    "# ETL Pterodactyl Minecraft Application\n",
    "\n",
    "### Index\n",
    "\n",
    "- Install requierements\n",
    "- Import libraries and setup key variables\n",
    "- Setup directories, functions and folder creation\n",
    "- Get Pterodactyl Application information\n",
    "- Upload csv table files into Postgres"
   ]
  },
  {
   "cell_type": "markdown",
   "metadata": {},
   "source": [
    "## Install requierements"
   ]
  },
  {
   "cell_type": "code",
   "execution_count": null,
   "metadata": {},
   "outputs": [],
   "source": [
    "pip install -r requirements.txt"
   ]
  },
  {
   "cell_type": "markdown",
   "metadata": {},
   "source": [
    "## Import libraries and setup key variables\n",
    "Remember to add you own credentials in the .env file for them to be loaded here"
   ]
  },
  {
   "cell_type": "code",
   "execution_count": null,
   "metadata": {},
   "outputs": [],
   "source": [
    "import datetime, csv, os\n",
    "from sqlalchemy import create_engine, text\n",
    "from pydactyl import PterodactylClient\n",
    "from dotenv import load_dotenv\n",
    "from shlink import Shlink\n",
    "import pandas as pd\n",
    "\n",
    "# Load .env file credentials\n",
    "load_dotenv()\n",
    "\n",
    "# Database connection\n",
    "host = os.getenv('POSTGRES_HOST')\n",
    "port = os.getenv('POSTGRES_PORT')\n",
    "database = os.getenv('POSTGRES_DATABASE')\n",
    "username = os.getenv('POSTGRES_USERNAME')\n",
    "password = os.getenv('POSTGRES_PASSWORD')\n",
    "connection = f'postgresql://{username}:{password}@{host}:{port}/{database}'\n",
    "\n",
    "# Shlink connection\n",
    "shlink_url = os.getenv('SHLINK_URL')\n",
    "shlink_api_key = os.getenv('SHLINK_API_KEY')\n",
    "\n",
    "# Connecto to Shlink API\n",
    "shlink = Shlink(url=shlink_url, api_key=shlink_api_key)"
   ]
  },
  {
   "cell_type": "markdown",
   "metadata": {},
   "source": [
    "## Setup directories, functions and folder creation"
   ]
  },
  {
   "cell_type": "code",
   "execution_count": null,
   "metadata": {},
   "outputs": [],
   "source": [
    "# Create folders, variables or whatever you need here before coding below"
   ]
  },
  {
   "cell_type": "markdown",
   "metadata": {},
   "source": [
    "## Get Pterodactyl Application information\n",
    "About: locations, nodes, nests, eggs, servers, clients"
   ]
  },
  {
   "cell_type": "code",
   "execution_count": null,
   "metadata": {},
   "outputs": [],
   "source": [
    "# Extracting data from Shlink API"
   ]
  },
  {
   "cell_type": "markdown",
   "metadata": {},
   "source": [
    "## Upload csv table files into Postgres"
   ]
  },
  {
   "cell_type": "code",
   "execution_count": null,
   "metadata": {},
   "outputs": [],
   "source": [
    "engine = create_engine(connection)\n",
    "\n",
    "for file_table in os.listdir(server_app_folder):\n",
    "\n",
    "    # Setup database variables\n",
    "    ID = 'id'\n",
    "    TABLE = file_table.split('.')[0]\n",
    "    TABLE_UPDATE = TABLE + '_update'\n",
    "    IS_ACTIVE_TABLE = 'is_active_table'\n",
    "    SCHEMA = 'pterodactyl'\n",
    "    SCHEMA_UPDATE = 'pterodactyl_update'\n",
    "    \n",
    "    # Reading of the file_table\n",
    "    df = pd.read_csv(os.path.join(server_app_folder, file_table))\n",
    "\n",
    "    # Start connection with database\n",
    "    with engine.connect() as conn:\n",
    "        # Start a new transaction\n",
    "        trans = conn.begin()\n",
    "\n",
    "        try:\n",
    "            # Load ID from database\n",
    "            result = conn.execute(text(f'SELECT \"{ID}\" FROM {SCHEMA}.{TABLE}'))\n",
    "            db = pd.DataFrame(result.fetchall(), columns=result.keys())\n",
    "\n",
    "            # Compare ID\n",
    "            sameID = db[ID].isin(df[ID])\n",
    "\n",
    "            toUpdate = df[df[ID].isin(db[ID][sameID])]\n",
    "            toIngest = df[~df[ID].isin(db[ID][sameID])]\n",
    "            toDelete = db[~db[ID].isin(df[ID])]\n",
    "\n",
    "            # Insert the DataFrame into a table\n",
    "            toIngest.to_sql(TABLE, conn, schema=SCHEMA, if_exists='append', index=False)\n",
    "\n",
    "            # Insert the updatable DataFrame into the TABLE_UPDATE table\n",
    "            toUpdate.to_sql(TABLE_UPDATE, conn, schema=SCHEMA_UPDATE, if_exists='append', index=False)\n",
    "\n",
    "            # Define and execute the following queries\n",
    "            conn.execute(text(f'DELETE FROM {SCHEMA}.{TABLE} WHERE \"{ID}\" IN (SELECT \"{ID}\" FROM {SCHEMA_UPDATE}.{TABLE_UPDATE});'))\n",
    "            conn.execute(text(f'INSERT INTO {SCHEMA}.{TABLE} SELECT * FROM {SCHEMA_UPDATE}.{TABLE_UPDATE};'))\n",
    "            conn.execute(text(f'TRUNCATE TABLE {SCHEMA_UPDATE}.{TABLE_UPDATE};'))\n",
    "\n",
    "            # Update column \"is_active\" from tables when data is deleted from Pterodactyl App\n",
    "            toDelete.to_sql(IS_ACTIVE_TABLE, conn, schema=SCHEMA_UPDATE, if_exists='append', index=False)\n",
    "            conn.execute(text(f'UPDATE {SCHEMA}.{TABLE} SET is_active = false WHERE \"{ID}\" IN (SELECT * FROM {SCHEMA_UPDATE}.{IS_ACTIVE_TABLE});'))\n",
    "            conn.execute(text(f'TRUNCATE TABLE {SCHEMA_UPDATE}.{IS_ACTIVE_TABLE};'))\n",
    "\n",
    "            # Commit the transaction\n",
    "            trans.commit()\n",
    "\n",
    "        except Exception as e:\n",
    "            # Rollback the transaction on exception\n",
    "            print('!!! [ERROR IN DATABASE QUERIES] !!!')\n",
    "            trans.rollback()\n",
    "            print('Transaction has been rolled back')\n",
    "            print(f'Error occurred during transaction:\\n{e}')\n",
    "            raise\n",
    "\n",
    "with engine.connect() as conn:\n",
    "    # Start a new transaction\n",
    "    trans = conn.begin()\n",
    "\n",
    "    try:\n",
    "        # Update date from the last_update table based on max date on the file\n",
    "        old_last_update = conn.execute(text(f'SELECT date FROM {SCHEMA}.last_update')).fetchall()[0][0]\n",
    "        new_last_update = last_update\n",
    "        if new_last_update > old_last_update:\n",
    "            conn.execute(text(f\"UPDATE {SCHEMA}.last_update SET date = '{new_last_update}';\"))\n",
    "\n",
    "        # Commit the transaction\n",
    "        trans.commit()\n",
    "\n",
    "    except Exception as e:\n",
    "        # Rollback the transaction on exception\n",
    "        print('!!! [ERROR IN DATABASE QUERIES] !!!')\n",
    "        trans.rollback()\n",
    "        print('Transaction has been rolled back')\n",
    "        print(f'Error occurred during transaction:\\n{e}')\n",
    "        raise"
   ]
  }
 ],
 "metadata": {
  "kernelspec": {
   "display_name": "Python 3 (ipykernel)",
   "language": "python",
   "name": "python3"
  },
  "language_info": {
   "codemirror_mode": {
    "name": "ipython",
    "version": 3
   },
   "file_extension": ".py",
   "mimetype": "text/x-python",
   "name": "python",
   "nbconvert_exporter": "python",
   "pygments_lexer": "ipython3",
   "version": "3.11.4"
  },
  "orig_nbformat": 4
 },
 "nbformat": 4,
 "nbformat_minor": 2
}
